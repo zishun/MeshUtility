{
  "nbformat": 4,
  "nbformat_minor": 0,
  "metadata": {
    "colab": {
      "name": "meshutility-tutorial.ipynb",
      "provenance": [],
      "collapsed_sections": [],
      "toc_visible": true
    },
    "kernelspec": {
      "name": "python3",
      "display_name": "Python 3"
    },
    "language_info": {
      "name": "python"
    }
  },
  "cells": [
    {
      "cell_type": "markdown",
      "source": [
        "# MeshUtility\n",
        "\n",
        "https://github.com/zishun/MeshUtility\n",
        "\n",
        "## Functions & Modules\n",
        "- ```colormap_vertex_color```: assign vertex color to visualize a scalar field defined on mesh.\n",
        "- ```cut_along_curve```: cut a mesh along a vertex chain.\n",
        "- ```ff_graph```: face-face graph of mesh.\n",
        "- ```get_scalar_field_on_resampled_points```: given a scalar field defined on a triangular mesh, get field values on resampled points.\n",
        "- ```IsoCurve``` module: extract isocurves on a scalar field defined on a manifold triangular mesh.\n",
        "- ```pygeodesic``` module (C++): geodesic for triangular meshes.\n",
        "    - exact geodesic by Danil Kirsanov.\n",
        "    - fast marching, may use different speed on each face.\n",
        "- ```pyisocurve``` module (C++): almost the same as ```IsoCurve``` above.\n",
        "- ```pyremesh``` module (C++): incremental isotropic remeshing.\n",
        "- ```pyshapeop``` module (C++): a partial binding of ShapeOp.\n",
        "- ```read_obj_lines```: read polyline from a [Wavefront .obj file](https://en.wikipedia.org/wiki/Wavefront_.obj_file#Line_elements).\n",
        "- ```remove_unreferenced_vertices```: remove unreferenced vertices.\n",
        "- ```sphere_cvt```: iteratively approximate centroidal Voronoi tessellation (CVT) on the unit sphere (kind of uniform sampling).\n",
        "- ```split_connected_components```: split connected components.\n",
        "- ```split_mesh, split_mesh_complete```: split a mesh by inserting new vertices defined on mesh edges.\n",
        "- ```write_obj_lines```: write polyline as a Wavefront .obj file that can be open with MeshLab.\n",
        "- ```vv_graph```: vertex-vertex graph of mesh.\n"
      ],
      "metadata": {
        "id": "fgMa_CBTe_5R"
      }
    },
    {
      "cell_type": "markdown",
      "source": [
        "## Install\n",
        "\n",
        "* Local machine: ```pip install meshutility==0.0.2```.\n",
        "* Google Colab: python3.7 builds ```openmesh``` from source. Here we use ```meshplot``` for visualization. Let's install them seperately."
      ],
      "metadata": {
        "id": "XaGqmMjEHkeV"
      }
    },
    {
      "cell_type": "code",
      "source": [
        "!pip install openmesh pythreejs\n",
        "!pip install git+https://github.com/skoch9/meshplot@v0.3.2"
      ],
      "metadata": {
        "id": "YkNImBcKk6wm"
      },
      "execution_count": null,
      "outputs": []
    },
    {
      "cell_type": "code",
      "execution_count": null,
      "metadata": {
        "id": "edwwMeKFe7Qu"
      },
      "outputs": [],
      "source": [
        "!pip install meshutility==0.0.2"
      ]
    },
    {
      "cell_type": "code",
      "source": [
        "# some necessary preparation\n",
        "import meshutility as mu\n",
        "import numpy as np\n",
        "import openmesh as om\n",
        "import networkx as nx\n",
        "import meshplot as mp\n",
        "from IPython.core.display import display, HTML\n",
        "\n",
        "# # colab may suggest to add the following two lines. DO NOT DO IT!\n",
        "# from google.colab import output\n",
        "# output.enable_custom_widget_manager()\n",
        "\n",
        "def display_viewer(viewer):\n",
        "    display(HTML(viewer.to_html()))\n",
        "\n",
        "def mp_plot(*args, **kwargs):\n",
        "    display_viewer(mp.plot(return_plot=True, *args, **kwargs))"
      ],
      "metadata": {
        "id": "FjdB1km-7uJ0"
      },
      "execution_count": null,
      "outputs": []
    },
    {
      "cell_type": "markdown",
      "source": [
        "## Sphereical CVT"
      ],
      "metadata": {
        "id": "SVnZcVtoJpEW"
      }
    },
    {
      "cell_type": "code",
      "source": [
        "verts, faces = mu.sphere_cvt(100, iters=100)\n",
        "mp_plot(verts, faces)"
      ],
      "metadata": {
        "id": "bHFVqQoHAlzV"
      },
      "execution_count": null,
      "outputs": []
    },
    {
      "cell_type": "code",
      "source": [
        "mp_plot(verts, c=verts, shading={\"point_size\": 0.3})"
      ],
      "metadata": {
        "id": "bdEcl4R56EJ6"
      },
      "execution_count": null,
      "outputs": []
    },
    {
      "cell_type": "markdown",
      "source": [
        "## Iso-curve"
      ],
      "metadata": {
        "id": "B9gLKO3ZLQ2I"
      }
    },
    {
      "cell_type": "code",
      "source": [
        "field = verts[:, 1]\n",
        "\n",
        "isocurve = mu.IsoCurve(verts, faces, field)\n",
        "pts, on_edges, ratios, isocurve_indices = isocurve.extract(0.5)"
      ],
      "metadata": {
        "id": "2JKUs47uLN4P"
      },
      "execution_count": null,
      "outputs": []
    },
    {
      "cell_type": "code",
      "source": [
        "p = mp.plot(verts, faces, c=field, return_plot=True)\n",
        "edges = []\n",
        "for line in isocurve_indices:\n",
        "    edges.extend([[line[i], line[i+1]] for i in range(len(line)-1)])\n",
        "edges = np.array(edges, 'i')\n",
        "p.add_edges(pts, edges, shading={\"line_color\": \"red\"})\n",
        "display_viewer(p)"
      ],
      "metadata": {
        "id": "Aub-eMRdLeNO"
      },
      "execution_count": null,
      "outputs": []
    },
    {
      "cell_type": "markdown",
      "source": [
        "## Remesh"
      ],
      "metadata": {
        "id": "BUkoddFy3Hpr"
      }
    },
    {
      "cell_type": "code",
      "source": [
        "mesh = om.TriMesh(verts, faces)\n",
        "remesher = mu.pyremesh.remesher()\n",
        "remesher.init_mesh(verts, faces)\n",
        "\n",
        "ev = mesh.ev_indices()\n",
        "edges = verts[ev[:,0]] - verts[ev[:,1]]\n",
        "edge_lengths = np.linalg.norm(edges, axis=1)\n",
        "remesher.remesh(np.median(edge_lengths)*0.6, 15)\n",
        "verts1, faces1 = remesher.get_mesh()\n",
        "d = mp.subplot(verts, faces, c=field, s=[1, 2, 0])\n",
        "field1 = mu.get_scalar_field_on_resampled_points(verts, faces, field, verts1)\n",
        "mp.subplot(verts1, faces1, c=field1, s=[1, 2, 1], data=d)\n",
        "display_viewer(d)"
      ],
      "metadata": {
        "id": "Vds3Dx9-3KUy"
      },
      "execution_count": null,
      "outputs": []
    },
    {
      "cell_type": "markdown",
      "source": [
        "## Mesh Splitting/Cutting"
      ],
      "metadata": {
        "id": "8Ie0jUd2yVUR"
      }
    },
    {
      "cell_type": "code",
      "source": [
        "mesh_split, curve_idx = mu.split_mesh(mesh.points(),\n",
        "                             mesh.fv_indices(),\n",
        "                             on_edges, ratios)\n",
        "\n",
        "np.random.seed(5)\n",
        "d = mp.subplot(verts, faces, c=np.random.rand(*faces.shape), s=[1, 2, 0])\n",
        "np.random.seed(5)\n",
        "mp.subplot(mesh_split.points(), mesh_split.fv_indices(), c=np.random.rand(mesh_split.n_faces(), 3), s=[1, 2, 1], data=d)\n",
        "display_viewer(d)"
      ],
      "metadata": {
        "id": "CZ0MmP0qik3k"
      },
      "execution_count": null,
      "outputs": []
    },
    {
      "cell_type": "code",
      "source": [
        "curve_idx_ring = curve_idx + [curve_idx[0]]\n",
        "curve = [curve_idx_ring[v] for v in isocurve_indices[0]]\n",
        "mesh_cut, curve_idx = mu.cut_along_curve(mesh_split.points(),\n",
        "                                         mesh_split.fv_indices(),\n",
        "                                         curve)\n",
        "parts = mu.split_connected_components(mesh_cut.points(),\n",
        "                                      mesh_cut.fv_indices())\n",
        "n = len(parts)\n",
        "d = mp.subplot(parts[0].points(), parts[0].fv_indices(), s=[1, n, 0])\n",
        "for i in range(1, n):\n",
        "    mp.subplot(parts[i].points(), parts[i].fv_indices(), s=[1, n, i], data=d)\n",
        "display_viewer(d)"
      ],
      "metadata": {
        "id": "7Bu3p39z0EXR"
      },
      "execution_count": null,
      "outputs": []
    },
    {
      "cell_type": "markdown",
      "source": [
        "## Geodesic Distance Field"
      ],
      "metadata": {
        "id": "GBD4dKQcyafo"
      }
    },
    {
      "cell_type": "code",
      "source": [
        "u, v = 0, 20\n",
        "path_edge, path_ratio = mu.pygeodesic.find_path(verts, faces, u, v)\n",
        "\n",
        "pts0 = verts[path_edge[:,0]]\n",
        "pts1 = verts[path_edge[:,1]]\n",
        "pts = np.multiply(pts0, 1.-path_ratio[:, np.newaxis]) + \\\n",
        "            np.multiply(pts1, path_ratio[:, np.newaxis])\n",
        "p = mp.plot(verts, faces, return_plot=True)\n",
        "edges = [[i, i+1] for i in range(pts.shape[0]-1)]\n",
        "edges = np.array(edges, 'i')\n",
        "p.add_edges(pts, edges, shading={\"line_color\": \"red\"})\n",
        "display_viewer(p)"
      ],
      "metadata": {
        "id": "NFD2wBUv0ASx"
      },
      "execution_count": null,
      "outputs": []
    },
    {
      "cell_type": "code",
      "source": [
        "mesh_split, source = mu.split_mesh(verts, faces,\n",
        "                              path_edge, path_ratio)\n",
        "\n",
        "# compute geodesic distance field\n",
        "field = mu.pygeodesic.distance_field(mesh_split.points(),\n",
        "                                     mesh_split.fv_indices(),\n",
        "                                     source, 0.05)\n",
        "\n",
        "mp_plot(mesh_split.points(), mesh_split.fv_indices(), c=field)"
      ],
      "metadata": {
        "id": "ZdP16NfL0ao8"
      },
      "execution_count": null,
      "outputs": []
    },
    {
      "cell_type": "markdown",
      "source": [
        "## Mesh to Graph"
      ],
      "metadata": {
        "id": "xXsxvEpd0ufi"
      }
    },
    {
      "cell_type": "code",
      "source": [
        "G = mu.ff_graph(mesh)\n",
        "assert(mesh.n_faces() == G.number_of_nodes())\n",
        "print('#components=%d' % (nx.number_connected_components(G)))\n",
        "nx.draw(G, node_size=40, pos=nx.spring_layout(G, seed=2))"
      ],
      "metadata": {
        "id": "vV-VFGRa0rSX"
      },
      "execution_count": null,
      "outputs": []
    },
    {
      "cell_type": "code",
      "source": [
        "G = mu.ff_graph(mesh_cut)\n",
        "assert(mesh_cut.n_faces() == G.number_of_nodes())\n",
        "print('#components=%d' % (nx.number_connected_components(G)))\n",
        "nx.draw(G, node_size=40, pos=nx.spring_layout(G, seed=11))"
      ],
      "metadata": {
        "id": "VCSElRVO0xI9"
      },
      "execution_count": null,
      "outputs": []
    },
    {
      "cell_type": "code",
      "source": [
        ""
      ],
      "metadata": {
        "id": "GNRGh_9a01DR"
      },
      "execution_count": null,
      "outputs": []
    }
  ]
}
